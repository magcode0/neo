{
 "cells": [
  {
   "cell_type": "code",
   "execution_count": 4,
   "id": "db4c135f-6bc6-4703-a0c4-8448252686f8",
   "metadata": {},
   "outputs": [],
   "source": [
    "weights = [0.1, 0.2, 0]\n",
    "\n",
    "def w_sum(a, b):\n",
    "    assert(len(a) == len(b)) # это булевы выражения, которые проверяют, является ли условие истинным (True).\n",
    "    output = 0\n",
    "    \n",
    "    for i in range(len(a)):\n",
    "        output += (a[i] * b[i])\n",
    "\n",
    "    return output"
   ]
  },
  {
   "cell_type": "code",
   "execution_count": 5,
   "id": "90fcbd2a-9021-4152-a5c8-c23f3a644a0e",
   "metadata": {},
   "outputs": [],
   "source": [
    "def neural_network(inputs, weights):\n",
    "    pred = w_sum(inputs, weights)\n",
    "    return pred"
   ]
  },
  {
   "cell_type": "code",
   "execution_count": 6,
   "id": "1fcff329-e8d6-471b-9ffe-6513326dc409",
   "metadata": {},
   "outputs": [
    {
     "name": "stdout",
     "output_type": "stream",
     "text": [
      "0.9800000000000001\n"
     ]
    }
   ],
   "source": [
    "toes = [8.5, 9.5, 9.9, 9.0] # Среднее число игр\n",
    "wlrec = [0.65, 0.8, 0.8, 0.9] # Текущая доля игр, окончившихся победой (процент)\n",
    "nfans = [1.2, 1.3, 0.5, 1.0] # Число болельщиков (в миллионах)\n",
    "\n",
    "inputs = [toes[0], wlrec[0], nfans[0]]\n",
    "pred = neural_network(inputs=inputs, weights=weights)\n",
    "print(pred)"
   ]
  },
  {
   "cell_type": "code",
   "execution_count": null,
   "id": "ad86c22a-3775-4305-abb8-2a594b9c256a",
   "metadata": {},
   "outputs": [],
   "source": []
  }
 ],
 "metadata": {
  "kernelspec": {
   "display_name": "Python 3 (ipykernel)",
   "language": "python",
   "name": "python3"
  },
  "language_info": {
   "codemirror_mode": {
    "name": "ipython",
    "version": 3
   },
   "file_extension": ".py",
   "mimetype": "text/x-python",
   "name": "python",
   "nbconvert_exporter": "python",
   "pygments_lexer": "ipython3",
   "version": "3.11.6"
  }
 },
 "nbformat": 4,
 "nbformat_minor": 5
}
